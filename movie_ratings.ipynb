{
  "nbformat": 4,
  "nbformat_minor": 0,
  "metadata": {
    "colab": {
      "name": "movie_ratings.ipynb",
      "provenance": [],
      "collapsed_sections": []
    },
    "kernelspec": {
      "name": "python3",
      "display_name": "Python 3"
    },
    "accelerator": "GPU"
  },
  "cells": [
    {
      "cell_type": "code",
      "metadata": {
        "id": "Zid_aLH1DRQT",
        "colab_type": "code",
        "outputId": "6905c8cb-687a-4ffe-92c7-19cf3215e120",
        "colab": {
          "base_uri": "https://localhost:8080/",
          "height": 34
        }
      },
      "source": [
        "import tensorflow as tf\n",
        "print(tf.__version__)"
      ],
      "execution_count": 6,
      "outputs": [
        {
          "output_type": "stream",
          "text": [
            "1.14.0\n"
          ],
          "name": "stdout"
        }
      ]
    },
    {
      "cell_type": "code",
      "metadata": {
        "id": "-FG1xNqhhDIu",
        "colab_type": "code",
        "outputId": "91ccc8a9-0338-49c0-9cb8-7361ebaccd9b",
        "colab": {
          "base_uri": "https://localhost:8080/",
          "height": 377
        }
      },
      "source": [
        "pip install tensorflow==2.0.0-beta1 "
      ],
      "execution_count": 4,
      "outputs": [
        {
          "output_type": "stream",
          "text": [
            "Requirement already satisfied: tensorflow==2.0.0-beta1 in /usr/local/lib/python3.6/dist-packages (2.0.0b1)\n",
            "Requirement already satisfied: protobuf>=3.6.1 in /usr/local/lib/python3.6/dist-packages (from tensorflow==2.0.0-beta1) (3.7.1)\n",
            "Requirement already satisfied: numpy<2.0,>=1.14.5 in /usr/local/lib/python3.6/dist-packages (from tensorflow==2.0.0-beta1) (1.16.5)\n",
            "Requirement already satisfied: keras-preprocessing>=1.0.5 in /usr/local/lib/python3.6/dist-packages (from tensorflow==2.0.0-beta1) (1.1.0)\n",
            "Requirement already satisfied: wheel>=0.26 in /usr/local/lib/python3.6/dist-packages (from tensorflow==2.0.0-beta1) (0.33.6)\n",
            "Requirement already satisfied: astor>=0.6.0 in /usr/local/lib/python3.6/dist-packages (from tensorflow==2.0.0-beta1) (0.8.0)\n",
            "Requirement already satisfied: tb-nightly<1.14.0a20190604,>=1.14.0a20190603 in /usr/local/lib/python3.6/dist-packages (from tensorflow==2.0.0-beta1) (1.14.0a20190603)\n",
            "Requirement already satisfied: termcolor>=1.1.0 in /usr/local/lib/python3.6/dist-packages (from tensorflow==2.0.0-beta1) (1.1.0)\n",
            "Requirement already satisfied: wrapt>=1.11.1 in /usr/local/lib/python3.6/dist-packages (from tensorflow==2.0.0-beta1) (1.11.2)\n",
            "Requirement already satisfied: six>=1.10.0 in /usr/local/lib/python3.6/dist-packages (from tensorflow==2.0.0-beta1) (1.12.0)\n",
            "Requirement already satisfied: keras-applications>=1.0.6 in /usr/local/lib/python3.6/dist-packages (from tensorflow==2.0.0-beta1) (1.0.8)\n",
            "Requirement already satisfied: grpcio>=1.8.6 in /usr/local/lib/python3.6/dist-packages (from tensorflow==2.0.0-beta1) (1.15.0)\n",
            "Requirement already satisfied: absl-py>=0.7.0 in /usr/local/lib/python3.6/dist-packages (from tensorflow==2.0.0-beta1) (0.8.0)\n",
            "Requirement already satisfied: tf-estimator-nightly<1.14.0.dev2019060502,>=1.14.0.dev2019060501 in /usr/local/lib/python3.6/dist-packages (from tensorflow==2.0.0-beta1) (1.14.0.dev2019060501)\n",
            "Requirement already satisfied: gast>=0.2.0 in /usr/local/lib/python3.6/dist-packages (from tensorflow==2.0.0-beta1) (0.2.2)\n",
            "Requirement already satisfied: google-pasta>=0.1.6 in /usr/local/lib/python3.6/dist-packages (from tensorflow==2.0.0-beta1) (0.1.7)\n",
            "Requirement already satisfied: setuptools in /usr/local/lib/python3.6/dist-packages (from protobuf>=3.6.1->tensorflow==2.0.0-beta1) (41.2.0)\n",
            "Requirement already satisfied: werkzeug>=0.11.15 in /usr/local/lib/python3.6/dist-packages (from tb-nightly<1.14.0a20190604,>=1.14.0a20190603->tensorflow==2.0.0-beta1) (0.15.6)\n",
            "Requirement already satisfied: markdown>=2.6.8 in /usr/local/lib/python3.6/dist-packages (from tb-nightly<1.14.0a20190604,>=1.14.0a20190603->tensorflow==2.0.0-beta1) (3.1.1)\n",
            "Requirement already satisfied: h5py in /usr/local/lib/python3.6/dist-packages (from keras-applications>=1.0.6->tensorflow==2.0.0-beta1) (2.8.0)\n"
          ],
          "name": "stdout"
        }
      ]
    },
    {
      "cell_type": "code",
      "metadata": {
        "id": "luRyL4mpDpSE",
        "colab_type": "code",
        "outputId": "b850203c-2656-44b9-f699-54db5a89c5e6",
        "colab": {
          "base_uri": "https://localhost:8080/",
          "height": 88
        }
      },
      "source": [
        "import tensorflow as tf\n",
        "from tensorflow import keras\n",
        "import numpy as np\n",
        "\n",
        "data = keras.datasets.imdb\n",
        "\n",
        "(train_data,train_labels) , (test_data,test_labels) = data.load_data(num_words=88000)\n",
        "\n",
        "print(train_data[1])"
      ],
      "execution_count": 7,
      "outputs": [
        {
          "output_type": "stream",
          "text": [
            "Downloading data from https://storage.googleapis.com/tensorflow/tf-keras-datasets/imdb.npz\n",
            "17465344/17464789 [==============================] - 0s 0us/step\n",
            "[1, 194, 1153, 194, 8255, 78, 228, 5, 6, 1463, 4369, 5012, 134, 26, 4, 715, 8, 118, 1634, 14, 394, 20, 13, 119, 954, 189, 102, 5, 207, 110, 3103, 21, 14, 69, 188, 8, 30, 23, 7, 4, 249, 126, 93, 4, 114, 9, 2300, 1523, 5, 647, 4, 116, 9, 35, 8163, 4, 229, 9, 340, 1322, 4, 118, 9, 4, 130, 4901, 19, 4, 1002, 5, 89, 29, 952, 46, 37, 4, 455, 9, 45, 43, 38, 1543, 1905, 398, 4, 1649, 26, 6853, 5, 163, 11, 3215, 10156, 4, 1153, 9, 194, 775, 7, 8255, 11596, 349, 2637, 148, 605, 15358, 8003, 15, 123, 125, 68, 23141, 6853, 15, 349, 165, 4362, 98, 5, 4, 228, 9, 43, 36893, 1157, 15, 299, 120, 5, 120, 174, 11, 220, 175, 136, 50, 9, 4373, 228, 8255, 5, 25249, 656, 245, 2350, 5, 4, 9837, 131, 152, 491, 18, 46151, 32, 7464, 1212, 14, 9, 6, 371, 78, 22, 625, 64, 1382, 9, 8, 168, 145, 23, 4, 1690, 15, 16, 4, 1355, 5, 28, 6, 52, 154, 462, 33, 89, 78, 285, 16, 145, 95]\n"
          ],
          "name": "stdout"
        }
      ]
    },
    {
      "cell_type": "code",
      "metadata": {
        "id": "3uhS6JAwFeBR",
        "colab_type": "code",
        "outputId": "f574cfe7-ff82-4348-904d-6ae9aabdcf55",
        "colab": {
          "base_uri": "https://localhost:8080/",
          "height": 1000
        }
      },
      "source": [
        "word_index = data.get_word_index()\n",
        "\n",
        "word_index = {k:(v+3) for k,v in word_index.items()}\n",
        "\n",
        "word_index[\"<PAD>\"] = 0\n",
        "word_index[\"<START>\"] = 1\n",
        "word_index[\"<UNK>\"] = 2   #Unknown\n",
        "word_index[\"<UNUSED>\"] = 3\n",
        "\n",
        "rev_word_index = dict([(value,key) for (key,value) in word_index.items()])\n",
        "\n",
        "train_data = keras.preprocessing.sequence.pad_sequences(train_data, value=word_index[\"<PAD>\"],padding=\"post\",maxlen=250)\n",
        "test_data = keras.preprocessing.sequence.pad_sequences(test_data, value=word_index[\"<PAD>\"],padding=\"post\",maxlen=250)\n",
        "\n",
        "\n",
        "def decode_review(text):\n",
        "  return \" \".join([rev_word_index.get(i, \"?\") for i in text])\n",
        "\n",
        "# print(decode_review(test_data[2]))\n",
        "# print(len(decode_review(test_data[2])))\n",
        "\n",
        "# print(len(test_data[8]), len(test_data[1]))\n",
        "# print(test_data[2])\n",
        "# MODELS\n",
        "\n",
        "model = keras.Sequential()\n",
        "model.add(keras.layers.Embedding(88000,16))\n",
        "model.add(keras.layers.GlobalAveragePooling1D())\n",
        "model.add(keras.layers.Dense(16,activation=\"relu\"))    #relu:Rectified Linear Unit\n",
        "model.add(keras.layers.Dense(1,activation=\"sigmoid\"))  #It will generates the output as 0 or 1\n",
        "\n",
        "model.summary()\n",
        "\n",
        "model.compile(optimizer=\"adam\",loss=\"binary_crossentropy\",metrics=[\"accuracy\"])\n",
        "\n",
        "x_test = train_data[:10000]\n",
        "x_train = train_data[10000:]\n",
        "\n",
        "y_test = train_labels[:10000]\n",
        "y_train = train_labels[10000:]\n",
        "\n",
        "fit_model = model.fit(x_train,y_train,epochs=20,batch_size=512,validation_data=(x_test,y_test),verbose=1)\n",
        "\n",
        "results = model.evaluate(test_data,test_labels)\n",
        "\n",
        "print(results)\n",
        "\n",
        "\n",
        "test_review = test_data[0]\n",
        "predict = model.predict([test_review])\n",
        "print(\"Review: \")\n",
        "print(decode_review(test_review))\n",
        "print(\"Prediction : \" + str(predict[0]))\n",
        "print(\"Actual : \" + str(test_labels[0]))\n",
        "\n",
        "model.save(\"model.h5\")"
      ],
      "execution_count": 8,
      "outputs": [
        {
          "output_type": "stream",
          "text": [
            "Downloading data from https://storage.googleapis.com/tensorflow/tf-keras-datasets/imdb_word_index.json\n",
            "1646592/1641221 [==============================] - 0s 0us/step\n",
            "WARNING:tensorflow:From /usr/local/lib/python3.6/dist-packages/tensorflow/python/keras/initializers.py:119: calling RandomUniform.__init__ (from tensorflow.python.ops.init_ops) with dtype is deprecated and will be removed in a future version.\n",
            "Instructions for updating:\n",
            "Call initializer instance with the dtype argument instead of passing it to the constructor\n",
            "WARNING:tensorflow:From /usr/local/lib/python3.6/dist-packages/tensorflow/python/ops/init_ops.py:1251: calling VarianceScaling.__init__ (from tensorflow.python.ops.init_ops) with dtype is deprecated and will be removed in a future version.\n",
            "Instructions for updating:\n",
            "Call initializer instance with the dtype argument instead of passing it to the constructor\n",
            "Model: \"sequential\"\n",
            "_________________________________________________________________\n",
            "Layer (type)                 Output Shape              Param #   \n",
            "=================================================================\n",
            "embedding (Embedding)        (None, None, 16)          1408000   \n",
            "_________________________________________________________________\n",
            "global_average_pooling1d (Gl (None, 16)                0         \n",
            "_________________________________________________________________\n",
            "dense (Dense)                (None, 16)                272       \n",
            "_________________________________________________________________\n",
            "dense_1 (Dense)              (None, 1)                 17        \n",
            "=================================================================\n",
            "Total params: 1,408,289\n",
            "Trainable params: 1,408,289\n",
            "Non-trainable params: 0\n",
            "_________________________________________________________________\n",
            "WARNING:tensorflow:From /usr/local/lib/python3.6/dist-packages/tensorflow/python/ops/nn_impl.py:180: add_dispatch_support.<locals>.wrapper (from tensorflow.python.ops.array_ops) is deprecated and will be removed in a future version.\n",
            "Instructions for updating:\n",
            "Use tf.where in 2.0, which has the same broadcast rule as np.where\n",
            "Train on 15000 samples, validate on 10000 samples\n",
            "Epoch 1/20\n",
            "15000/15000 [==============================] - 1s 70us/sample - loss: 0.6924 - acc: 0.5284 - val_loss: 0.6913 - val_acc: 0.5657\n",
            "Epoch 2/20\n",
            "15000/15000 [==============================] - 0s 19us/sample - loss: 0.6888 - acc: 0.6787 - val_loss: 0.6858 - val_acc: 0.7559\n",
            "Epoch 3/20\n",
            "15000/15000 [==============================] - 0s 19us/sample - loss: 0.6792 - acc: 0.7671 - val_loss: 0.6730 - val_acc: 0.7606\n",
            "Epoch 4/20\n",
            "15000/15000 [==============================] - 0s 20us/sample - loss: 0.6601 - acc: 0.7728 - val_loss: 0.6506 - val_acc: 0.7599\n",
            "Epoch 5/20\n",
            "15000/15000 [==============================] - 0s 19us/sample - loss: 0.6291 - acc: 0.8019 - val_loss: 0.6182 - val_acc: 0.7807\n",
            "Epoch 6/20\n",
            "15000/15000 [==============================] - 0s 19us/sample - loss: 0.5873 - acc: 0.8184 - val_loss: 0.5784 - val_acc: 0.8012\n",
            "Epoch 7/20\n",
            "15000/15000 [==============================] - 0s 20us/sample - loss: 0.5372 - acc: 0.8347 - val_loss: 0.5324 - val_acc: 0.8120\n",
            "Epoch 8/20\n",
            "15000/15000 [==============================] - 0s 19us/sample - loss: 0.4839 - acc: 0.8529 - val_loss: 0.4889 - val_acc: 0.8258\n",
            "Epoch 9/20\n",
            "15000/15000 [==============================] - 0s 20us/sample - loss: 0.4333 - acc: 0.8686 - val_loss: 0.4492 - val_acc: 0.8385\n",
            "Epoch 10/20\n",
            "15000/15000 [==============================] - 0s 19us/sample - loss: 0.3877 - acc: 0.8846 - val_loss: 0.4158 - val_acc: 0.8479\n",
            "Epoch 11/20\n",
            "15000/15000 [==============================] - 0s 20us/sample - loss: 0.3481 - acc: 0.8963 - val_loss: 0.3881 - val_acc: 0.8573\n",
            "Epoch 12/20\n",
            "15000/15000 [==============================] - 0s 19us/sample - loss: 0.3144 - acc: 0.9051 - val_loss: 0.3664 - val_acc: 0.8634\n",
            "Epoch 13/20\n",
            "15000/15000 [==============================] - 0s 19us/sample - loss: 0.2863 - acc: 0.9122 - val_loss: 0.3475 - val_acc: 0.8690\n",
            "Epoch 14/20\n",
            "15000/15000 [==============================] - 0s 19us/sample - loss: 0.2612 - acc: 0.9195 - val_loss: 0.3333 - val_acc: 0.8735\n",
            "Epoch 15/20\n",
            "15000/15000 [==============================] - 0s 19us/sample - loss: 0.2399 - acc: 0.9265 - val_loss: 0.3221 - val_acc: 0.8776\n",
            "Epoch 16/20\n",
            "15000/15000 [==============================] - 0s 19us/sample - loss: 0.2209 - acc: 0.9333 - val_loss: 0.3122 - val_acc: 0.8773\n",
            "Epoch 17/20\n",
            "15000/15000 [==============================] - 0s 19us/sample - loss: 0.2036 - acc: 0.9395 - val_loss: 0.3048 - val_acc: 0.8814\n",
            "Epoch 18/20\n",
            "15000/15000 [==============================] - 0s 19us/sample - loss: 0.1882 - acc: 0.9446 - val_loss: 0.2977 - val_acc: 0.8816\n",
            "Epoch 19/20\n",
            "15000/15000 [==============================] - 0s 20us/sample - loss: 0.1744 - acc: 0.9492 - val_loss: 0.2923 - val_acc: 0.8837\n",
            "Epoch 20/20\n",
            "15000/15000 [==============================] - 0s 19us/sample - loss: 0.1621 - acc: 0.9539 - val_loss: 0.2888 - val_acc: 0.8859\n",
            "25000/25000 [==============================] - 1s 43us/sample - loss: 0.3092 - acc: 0.8729\n",
            "[0.30923434357643126, 0.87288]\n",
            "Review: \n",
            "<START> please give this one a miss br br kristy swanson and the rest of the cast rendered terrible performances the show is flat flat flat br br i don't know how michael madison could have allowed this one on his plate he almost seemed to know this wasn't going to work out and his performance was quite lacklustre so all you madison fans give this a miss <PAD> <PAD> <PAD> <PAD> <PAD> <PAD> <PAD> <PAD> <PAD> <PAD> <PAD> <PAD> <PAD> <PAD> <PAD> <PAD> <PAD> <PAD> <PAD> <PAD> <PAD> <PAD> <PAD> <PAD> <PAD> <PAD> <PAD> <PAD> <PAD> <PAD> <PAD> <PAD> <PAD> <PAD> <PAD> <PAD> <PAD> <PAD> <PAD> <PAD> <PAD> <PAD> <PAD> <PAD> <PAD> <PAD> <PAD> <PAD> <PAD> <PAD> <PAD> <PAD> <PAD> <PAD> <PAD> <PAD> <PAD> <PAD> <PAD> <PAD> <PAD> <PAD> <PAD> <PAD> <PAD> <PAD> <PAD> <PAD> <PAD> <PAD> <PAD> <PAD> <PAD> <PAD> <PAD> <PAD> <PAD> <PAD> <PAD> <PAD> <PAD> <PAD> <PAD> <PAD> <PAD> <PAD> <PAD> <PAD> <PAD> <PAD> <PAD> <PAD> <PAD> <PAD> <PAD> <PAD> <PAD> <PAD> <PAD> <PAD> <PAD> <PAD> <PAD> <PAD> <PAD> <PAD> <PAD> <PAD> <PAD> <PAD> <PAD> <PAD> <PAD> <PAD> <PAD> <PAD> <PAD> <PAD> <PAD> <PAD> <PAD> <PAD> <PAD> <PAD> <PAD> <PAD> <PAD> <PAD> <PAD> <PAD> <PAD> <PAD> <PAD> <PAD> <PAD> <PAD> <PAD> <PAD> <PAD> <PAD> <PAD> <PAD> <PAD> <PAD> <PAD> <PAD> <PAD> <PAD> <PAD> <PAD> <PAD> <PAD> <PAD> <PAD> <PAD> <PAD> <PAD> <PAD> <PAD> <PAD> <PAD> <PAD> <PAD> <PAD> <PAD> <PAD> <PAD> <PAD> <PAD> <PAD> <PAD> <PAD> <PAD> <PAD> <PAD> <PAD> <PAD> <PAD> <PAD> <PAD> <PAD> <PAD>\n",
            "Prediction : [7.4505806e-07]\n",
            "Actual : 0\n"
          ],
          "name": "stdout"
        }
      ]
    },
    {
      "cell_type": "code",
      "metadata": {
        "id": "PrGFY6k1VTqC",
        "colab_type": "code",
        "colab": {
          "base_uri": "https://localhost:8080/",
          "height": 139
        },
        "outputId": "16bfc6cb-711c-4cd3-8d51-2c7d0f885675"
      },
      "source": [
        "model = keras.models.load_model(\"model.h5\")\n"
      ],
      "execution_count": 9,
      "outputs": [
        {
          "output_type": "stream",
          "text": [
            "WARNING:tensorflow:From /usr/local/lib/python3.6/dist-packages/tensorflow/python/ops/init_ops.py:97: calling GlorotUniform.__init__ (from tensorflow.python.ops.init_ops) with dtype is deprecated and will be removed in a future version.\n",
            "Instructions for updating:\n",
            "Call initializer instance with the dtype argument instead of passing it to the constructor\n",
            "WARNING:tensorflow:From /usr/local/lib/python3.6/dist-packages/tensorflow/python/ops/init_ops.py:97: calling Zeros.__init__ (from tensorflow.python.ops.init_ops) with dtype is deprecated and will be removed in a future version.\n",
            "Instructions for updating:\n",
            "Call initializer instance with the dtype argument instead of passing it to the constructor\n"
          ],
          "name": "stdout"
        }
      ]
    }
  ]
}